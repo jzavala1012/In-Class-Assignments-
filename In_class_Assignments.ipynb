{
  "cells": [
    {
      "cell_type": "markdown",
      "metadata": {
        "id": "view-in-github",
        "colab_type": "text"
      },
      "source": [
        "<a href=\"https://colab.research.google.com/github/jzavala1012/In-Class-Assignments-/blob/main/In_class_Assignments.ipynb\" target=\"_parent\"><img src=\"https://colab.research.google.com/assets/colab-badge.svg\" alt=\"Open In Colab\"/></a>"
      ]
    },
    {
      "cell_type": "code",
      "source": [
        "pi = 3.14\n",
        "height = 10\n",
        "radius = 3\n",
        "area = 2 * (r**2) * pi + 2 * pi * r * h\n",
        "print(area)\n"
      ],
      "metadata": {
        "colab": {
          "base_uri": "https://localhost:8080/"
        },
        "id": "Tblw_UaO4rEu",
        "outputId": "0c70d508-d81b-4431-c98e-8f9559f51951"
      },
      "execution_count": null,
      "outputs": [
        {
          "output_type": "stream",
          "name": "stdout",
          "text": [
            "244.92000000000002\n"
          ]
        }
      ]
    },
    {
      "cell_type": "code",
      "source": [
        "P1 = input('Player 1 (rock, paper, scissors):')\n",
        "P2 = input('Player 2 (rock, paper, scissors):')\n",
        "\n",
        "if P1 == P2:\n",
        "    print('Draw')\n",
        "elif P1 == 'paper' and P2 == 'rock':\n",
        "    print('P1 wins')\n",
        "elif P1 == 'rock' and P2 == 'scissors':\n",
        "    print('P1 wins')\n",
        "elif P1 == ('scissors') and P2 == 'paper':\n",
        "    print('P1 wins!')\n",
        "else:\n",
        "    print('P2 wins!')"
      ],
      "metadata": {
        "colab": {
          "base_uri": "https://localhost:8080/"
        },
        "id": "MiuOc1_uscM5",
        "outputId": "7eda1ff0-638b-47f6-e035-0d7e590e1bdd"
      },
      "execution_count": null,
      "outputs": [
        {
          "output_type": "stream",
          "name": "stdout",
          "text": [
            "Player 1 (rock, paper, scissors):paper\n",
            "Player 2 (rock, paper, scissors):rock\n",
            "P1 wins\n"
          ]
        }
      ]
    },
    {
      "cell_type": "code",
      "source": [
        "import random\n",
        "play = input('Would you like to play yes or no? ')\n",
        "\n",
        "while play == 'yes':\n",
        "  P1 = input('Player 1 (rock, paper, scissors):')\n",
        "  P2 = random.choice(['rock', 'paper', 'scissors'])\n",
        "\n",
        "  print(f'Player chose {P1}; COM chose {P2}')\n",
        "\n",
        "  if P1 == P2:\n",
        "    print('Draw')\n",
        "  elif P1 == 'paper' and P2 == 'rock':\n",
        "    print('P1 wins')\n",
        "  elif P1 == 'rock' and P2 == 'scissors':\n",
        "    print('P1 wins')\n",
        "  elif P1 == ('scissors') and P2 == 'paper':\n",
        "    print('Player wins!')\n",
        "  else:\n",
        "    print('COM wins!')\n",
        "  play = input('Would you like to play again? ')\n",
        "\n",
        "\n",
        "\n",
        "\n"
      ],
      "metadata": {
        "id": "blHvmRucyiTs"
      },
      "execution_count": null,
      "outputs": []
    },
    {
      "cell_type": "code",
      "source": [
        "while True:\n",
        "  userNum1 = float(input('Enter first number: '))\n",
        "  userOperator = str(input('Enter operator: '))\n",
        "\n",
        "  if userOperator == 'break':\n",
        "    print(\"Thanks for using our calculator!\")\n",
        "    break\n",
        "\n",
        "  userNum2 = float(input('Enter second number: '))\n",
        "\n",
        "  if userOperator == '+':\n",
        "    answer = userNum1 + userNum2\n",
        "  elif userOperator == '-':\n",
        "    answer = userNum1 - userNum2\n",
        "  elif userOperator == '*':\n",
        "    answer = userNum1 * userNum2\n",
        "  elif userOperator == '/':\n",
        "    if userNum2 == 0:\n",
        "      print('Cannot divide by zero. Try again.')\n",
        "      continue\n",
        "    answer = userNum1 / userNum2\n",
        "  elif userOperator == '//':\n",
        "    if userNum2 == 0:\n",
        "      print('Cannot divide by zero. Try again.')\n",
        "      continue\n",
        "    answer = userNum1 // userNum2\n",
        "  elif userOperator == '%':\n",
        "    if userNum2 == 0:\n",
        "      print('Cannot divide by zero. Try again.')\n",
        "      continue\n",
        "    answer = userNum1 % userNum2\n",
        "  elif userOperator == '**':\n",
        "    answer = userNum1 ** userNum2\n",
        "  else:\n",
        "    print('Invalid operator. Try again.')\n",
        "    continue\n",
        "\n",
        "  print(answer)"
      ],
      "metadata": {
        "colab": {
          "base_uri": "https://localhost:8080/"
        },
        "id": "BjjYhStaAR5e",
        "outputId": "226d9b6a-fdd1-4912-8494-a36e652b0631"
      },
      "execution_count": null,
      "outputs": [
        {
          "output_type": "stream",
          "name": "stdout",
          "text": [
            "Enter first number: 2\n",
            "Enter operator: **\n",
            "Enter second number: 5\n",
            "32.0\n",
            "Enter first number: 2\n",
            "Enter operator: *\n",
            "Enter second number: 4\n",
            "8.0\n"
          ]
        }
      ]
    },
    {
      "cell_type": "code",
      "source": [
        "flatRate = 5\n",
        "hourlyRate = 2.5\n",
        "\n",
        "for h in range(1, 9):\n",
        "  charge = flatRate + hourlyRate * h\n",
        "  if charge < 10:\n",
        "    charge = 10\n",
        "  elif charge > 20:\n",
        "    charge = 20\n",
        "  print(h, charge)"
      ],
      "metadata": {
        "colab": {
          "base_uri": "https://localhost:8080/"
        },
        "id": "RQogkRcxBlPr",
        "outputId": "befaeb92-e41e-40bc-abd9-d4dbe36e85d3"
      },
      "execution_count": null,
      "outputs": [
        {
          "output_type": "stream",
          "name": "stdout",
          "text": [
            "1 10\n",
            "2 10.0\n",
            "3 12.5\n",
            "4 15.0\n",
            "5 17.5\n",
            "6 20.0\n",
            "7 20\n",
            "8 20\n"
          ]
        }
      ]
    },
    {
      "cell_type": "code",
      "source": [],
      "metadata": {
        "id": "SiXGjOgGGF5z"
      },
      "execution_count": null,
      "outputs": []
    },
    {
      "cell_type": "code",
      "source": [
        "ticketPrice = 10\n",
        "fixedCost = 200\n",
        "fixedAttendees = 20\n",
        "\n",
        "for ad in range(0, 201, 25):\n",
        "  additionalAttendees = round(2 * ad ** 0.5)\n",
        "  profit = (fixedAttendees + additionalAttendees) * ticketPrice - ad - fixedCost\n",
        "  print(ad, profit)\n"
      ],
      "metadata": {
        "colab": {
          "base_uri": "https://localhost:8080/"
        },
        "id": "BTcxNn3MB5y0",
        "outputId": "25bd3a0a-9aff-4937-c454-e50677489332"
      },
      "execution_count": null,
      "outputs": [
        {
          "output_type": "stream",
          "name": "stdout",
          "text": [
            "0 0\n",
            "25 75\n",
            "50 90\n",
            "75 95\n",
            "100 100\n",
            "125 95\n",
            "150 90\n",
            "175 85\n",
            "200 80\n"
          ]
        }
      ]
    },
    {
      "cell_type": "code",
      "source": [
        "i = 0\n",
        "\n",
        "while True:\n",
        "  i = i + 1\n",
        "  if i == 10:\n",
        "    break\n",
        "  print(i, end = ' ')\n",
        "\n",
        "print('Done.')\n"
      ],
      "metadata": {
        "colab": {
          "base_uri": "https://localhost:8080/"
        },
        "id": "s7GNk0_pKk5o",
        "outputId": "357851fc-4589-459c-cd37-437f02b08f23"
      },
      "execution_count": null,
      "outputs": [
        {
          "output_type": "stream",
          "name": "stdout",
          "text": [
            "1 2 3 4 5 6 7 8 9 Done.\n"
          ]
        }
      ]
    },
    {
      "cell_type": "code",
      "source": [
        "l = []\n",
        "\n",
        "integer = int(input('Give a value:'))\n",
        "\n",
        "while integer !=0:\n",
        "  l.append(integer)\n",
        "  integer = int(input('Give a value:'))\n",
        "\n",
        "print(l)"
      ],
      "metadata": {
        "colab": {
          "base_uri": "https://localhost:8080/"
        },
        "id": "leTakcajItAf",
        "outputId": "f3d02a0c-2563-4517-95c0-59e3af12e6ec"
      },
      "execution_count": null,
      "outputs": [
        {
          "output_type": "stream",
          "name": "stdout",
          "text": [
            "Give a value:10\n",
            "Give a value:12\n",
            "Give a value:5\n",
            "Give a value:0\n",
            "[10, 12, 5]\n"
          ]
        }
      ]
    },
    {
      "cell_type": "code",
      "source": [
        "months = {}\n",
        "\n",
        "names = ['Jan', 'Feb', 'Mar', 'Apr', 'May', 'Jun', 'Jul', 'Aug', 'Sep', 'Oct', 'Nov', 'Dec']\n",
        "numbers = [1, 2, 3, 4, 5, 6, 7, 8, 9, 10, 11, 12]\n",
        "\n",
        "for idx in numbers:\n",
        "  months[idx] = names[idx - 1]\n",
        "\n",
        "print(months)"
      ],
      "metadata": {
        "colab": {
          "base_uri": "https://localhost:8080/"
        },
        "id": "K7RWCkbU47h5",
        "outputId": "6f79cf90-360a-4c58-c70f-6ae3f549047a"
      },
      "execution_count": 13,
      "outputs": [
        {
          "output_type": "stream",
          "name": "stdout",
          "text": [
            "{1: 'Jan', 2: 'Feb', 3: 'Mar', 4: 'Apr', 5: 'May', 6: 'Jun', 7: 'Jul', 8: 'Aug', 9: 'Sep', 10: 'Oct', 11: 'Nov', 12: 'Dec'}\n"
          ]
        }
      ]
    }
  ],
  "metadata": {
    "colab": {
      "provenance": [],
      "authorship_tag": "ABX9TyNuYZvTrBMvcR4B3vKMeBSy",
      "include_colab_link": true
    },
    "kernelspec": {
      "display_name": "Python 3",
      "name": "python3"
    },
    "language_info": {
      "name": "python"
    }
  },
  "nbformat": 4,
  "nbformat_minor": 0
}