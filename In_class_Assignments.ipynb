{
  "cells": [
    {
      "cell_type": "markdown",
      "metadata": {
        "id": "view-in-github",
        "colab_type": "text"
      },
      "source": [
        "<a href=\"https://colab.research.google.com/github/jzavala1012/In-Class-Assignments-/blob/main/In_class_Assignments.ipynb\" target=\"_parent\"><img src=\"https://colab.research.google.com/assets/colab-badge.svg\" alt=\"Open In Colab\"/></a>"
      ]
    },
    {
      "cell_type": "code",
      "source": [
        "pi = 3.14\n",
        "height = 10\n",
        "radius = 3\n",
        "area = 2 * (r**2) * pi + 2 * pi * r * h\n",
        "print(area)\n"
      ],
      "metadata": {
        "colab": {
          "base_uri": "https://localhost:8080/"
        },
        "id": "Tblw_UaO4rEu",
        "outputId": "0c70d508-d81b-4431-c98e-8f9559f51951"
      },
      "execution_count": null,
      "outputs": [
        {
          "output_type": "stream",
          "name": "stdout",
          "text": [
            "244.92000000000002\n"
          ]
        }
      ]
    },
    {
      "cell_type": "code",
      "source": [
        "P1 = input('Player 1 (rock, paper, scissors):')\n",
        "P2 = input('Player 2 (rock, paper, scissors):')\n",
        "\n",
        "if P1 == P2:\n",
        "    print('Draw')\n",
        "elif P1 == 'paper' and P2 == 'rock':\n",
        "    print('P1 wins')\n",
        "elif P1 == 'rock' and P2 == 'scissors':\n",
        "    print('P1 wins')\n",
        "elif P1 == ('scissors') and P2 == 'paper':\n",
        "    print('P1 wins!')\n",
        "else:\n",
        "    print('P2 wins!')"
      ],
      "metadata": {
        "colab": {
          "base_uri": "https://localhost:8080/"
        },
        "id": "MiuOc1_uscM5",
        "outputId": "7eda1ff0-638b-47f6-e035-0d7e590e1bdd"
      },
      "execution_count": null,
      "outputs": [
        {
          "output_type": "stream",
          "name": "stdout",
          "text": [
            "Player 1 (rock, paper, scissors):paper\n",
            "Player 2 (rock, paper, scissors):rock\n",
            "P1 wins\n"
          ]
        }
      ]
    },
    {
      "cell_type": "code",
      "source": [
        "import random\n",
        "play = input('Would you like to play yes or no? ')\n",
        "\n",
        "while play == 'yes':\n",
        "  P1 = input('Player 1 (rock, paper, scissors):')\n",
        "  P2 = random.choice(['rock', 'paper', 'scissors'])\n",
        "\n",
        "  print(f'Player chose {P1}; COM chose {P2}')\n",
        "\n",
        "  if P1 == P2:\n",
        "    print('Draw')\n",
        "  elif P1 == 'paper' and P2 == 'rock':\n",
        "    print('P1 wins')\n",
        "  elif P1 == 'rock' and P2 == 'scissors':\n",
        "    print('P1 wins')\n",
        "  elif P1 == ('scissors') and P2 == 'paper':\n",
        "    print('Player wins!')\n",
        "  else:\n",
        "    print('COM wins!')\n",
        "  play = input('Would you like to play again? ')\n",
        "\n",
        "\n",
        "\n",
        "\n",
        ""
      ],
      "metadata": {
        "id": "blHvmRucyiTs"
      },
      "execution_count": null,
      "outputs": []
    }
  ],
  "metadata": {
    "colab": {
      "provenance": [],
      "authorship_tag": "ABX9TyP4xkamF/jyyThL4mEiOjQt",
      "include_colab_link": true
    },
    "kernelspec": {
      "display_name": "Python 3",
      "name": "python3"
    },
    "language_info": {
      "name": "python"
    }
  },
  "nbformat": 4,
  "nbformat_minor": 0
}