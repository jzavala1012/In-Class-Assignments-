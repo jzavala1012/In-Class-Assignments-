{
  "cells": [
    {
      "cell_type": "markdown",
      "metadata": {
        "id": "view-in-github",
        "colab_type": "text"
      },
      "source": [
        "<a href=\"https://colab.research.google.com/github/jzavala1012/In-Class-Assignments-/blob/main/In_class_Assignments.ipynb\" target=\"_parent\"><img src=\"https://colab.research.google.com/assets/colab-badge.svg\" alt=\"Open In Colab\"/></a>"
      ]
    },
    {
      "cell_type": "code",
      "source": [
        "pi = 3.14\n",
        "height = 10\n",
        "radius = 3\n",
        "area = 2 * (r**2) * pi + 2 * pi * r * h\n",
        "print(area)\n"
      ],
      "metadata": {
        "colab": {
          "base_uri": "https://localhost:8080/"
        },
        "id": "Tblw_UaO4rEu",
        "outputId": "0c70d508-d81b-4431-c98e-8f9559f51951"
      },
      "execution_count": null,
      "outputs": [
        {
          "output_type": "stream",
          "name": "stdout",
          "text": [
            "244.92000000000002\n"
          ]
        }
      ]
    },
    {
      "cell_type": "code",
      "source": [
        "P1 = input('Player 1 (rock, paper, scissors):')\n",
        "P2 = input('Player 2 (rock, paper, scissors):')\n",
        "\n",
        "if P1 == P2:\n",
        "    print('Draw')\n",
        "elif P1 == 'paper' and P2 == 'rock':\n",
        "    print('P1 wins')\n",
        "elif P1 == 'rock' and P2 == 'scissors':\n",
        "    print('P1 wins')\n",
        "elif P1 == ('scissors') and P2 == 'paper':\n",
        "    print('P1 wins!')\n",
        "else:\n",
        "    print('P2 wins!')"
      ],
      "metadata": {
        "colab": {
          "base_uri": "https://localhost:8080/"
        },
        "id": "MiuOc1_uscM5",
        "outputId": "7eda1ff0-638b-47f6-e035-0d7e590e1bdd"
      },
      "execution_count": null,
      "outputs": [
        {
          "output_type": "stream",
          "name": "stdout",
          "text": [
            "Player 1 (rock, paper, scissors):paper\n",
            "Player 2 (rock, paper, scissors):rock\n",
            "P1 wins\n"
          ]
        }
      ]
    },
    {
      "cell_type": "code",
      "source": [
        "import random\n",
        "play = input('Would you like to play yes or no? ')\n",
        "\n",
        "while play == 'yes':\n",
        "  P1 = input('Player 1 (rock, paper, scissors):')\n",
        "  P2 = random.choice(['rock', 'paper', 'scissors'])\n",
        "\n",
        "  print(f'Player chose {P1}; COM chose {P2}')\n",
        "\n",
        "  if P1 == P2:\n",
        "    print('Draw')\n",
        "  elif P1 == 'paper' and P2 == 'rock':\n",
        "    print('P1 wins')\n",
        "  elif P1 == 'rock' and P2 == 'scissors':\n",
        "    print('P1 wins')\n",
        "  elif P1 == ('scissors') and P2 == 'paper':\n",
        "    print('Player wins!')\n",
        "  else:\n",
        "    print('COM wins!')\n",
        "  play = input('Would you like to play again? ')\n",
        "\n",
        "\n",
        "\n",
        "\n"
      ],
      "metadata": {
        "id": "blHvmRucyiTs"
      },
      "execution_count": null,
      "outputs": []
    },
    {
      "cell_type": "code",
      "source": [
        "while True:\n",
        "  userNum1 = float(input('Enter first number: '))\n",
        "  userOperator = str(input('Enter operator: '))\n",
        "\n",
        "  if userOperator == 'break':\n",
        "    print(\"Thanks for using our calculator!\")\n",
        "    break\n",
        "\n",
        "  userNum2 = float(input('Enter second number: '))\n",
        "\n",
        "  if userOperator == '+':\n",
        "    answer = userNum1 + userNum2\n",
        "  elif userOperator == '-':\n",
        "    answer = userNum1 - userNum2\n",
        "  elif userOperator == '*':\n",
        "    answer = userNum1 * userNum2\n",
        "  elif userOperator == '/':\n",
        "    if userNum2 == 0:\n",
        "      print('Cannot divide by zero. Try again.')\n",
        "      continue\n",
        "    answer = userNum1 / userNum2\n",
        "  elif userOperator == '//':\n",
        "    if userNum2 == 0:\n",
        "      print('Cannot divide by zero. Try again.')\n",
        "      continue\n",
        "    answer = userNum1 // userNum2\n",
        "  elif userOperator == '%':\n",
        "    if userNum2 == 0:\n",
        "      print('Cannot divide by zero. Try again.')\n",
        "      continue\n",
        "    answer = userNum1 % userNum2\n",
        "  elif userOperator == '**':\n",
        "    answer = userNum1 ** userNum2\n",
        "  else:\n",
        "    print('Invalid operator. Try again.')\n",
        "    continue\n",
        "\n",
        "  print(answer)"
      ],
      "metadata": {
        "colab": {
          "base_uri": "https://localhost:8080/"
        },
        "id": "BjjYhStaAR5e",
        "outputId": "226d9b6a-fdd1-4912-8494-a36e652b0631"
      },
      "execution_count": null,
      "outputs": [
        {
          "output_type": "stream",
          "name": "stdout",
          "text": [
            "Enter first number: 2\n",
            "Enter operator: **\n",
            "Enter second number: 5\n",
            "32.0\n",
            "Enter first number: 2\n",
            "Enter operator: *\n",
            "Enter second number: 4\n",
            "8.0\n"
          ]
        }
      ]
    },
    {
      "cell_type": "code",
      "source": [
        "flatRate = 5\n",
        "hourlyRate = 2.5\n",
        "\n",
        "for h in range(1, 9):\n",
        "  charge = flatRate + hourlyRate * h\n",
        "  if charge < 10:\n",
        "    charge = 10\n",
        "  elif charge > 20:\n",
        "    charge = 20\n",
        "  print(h, charge)"
      ],
      "metadata": {
        "colab": {
          "base_uri": "https://localhost:8080/"
        },
        "id": "RQogkRcxBlPr",
        "outputId": "befaeb92-e41e-40bc-abd9-d4dbe36e85d3"
      },
      "execution_count": null,
      "outputs": [
        {
          "output_type": "stream",
          "name": "stdout",
          "text": [
            "1 10\n",
            "2 10.0\n",
            "3 12.5\n",
            "4 15.0\n",
            "5 17.5\n",
            "6 20.0\n",
            "7 20\n",
            "8 20\n"
          ]
        }
      ]
    },
    {
      "cell_type": "code",
      "source": [],
      "metadata": {
        "id": "SiXGjOgGGF5z"
      },
      "execution_count": null,
      "outputs": []
    },
    {
      "cell_type": "code",
      "source": [
        "ticketPrice = 10\n",
        "fixedCost = 200\n",
        "fixedAttendees = 20\n",
        "\n",
        "for ad in range(0, 201, 25):\n",
        "  additionalAttendees = round(2 * ad ** 0.5)\n",
        "  profit = (fixedAttendees + additionalAttendees) * ticketPrice - ad - fixedCost\n",
        "  print(ad, profit)\n"
      ],
      "metadata": {
        "colab": {
          "base_uri": "https://localhost:8080/"
        },
        "id": "BTcxNn3MB5y0",
        "outputId": "25bd3a0a-9aff-4937-c454-e50677489332"
      },
      "execution_count": null,
      "outputs": [
        {
          "output_type": "stream",
          "name": "stdout",
          "text": [
            "0 0\n",
            "25 75\n",
            "50 90\n",
            "75 95\n",
            "100 100\n",
            "125 95\n",
            "150 90\n",
            "175 85\n",
            "200 80\n"
          ]
        }
      ]
    },
    {
      "cell_type": "code",
      "source": [
        "i = 0\n",
        "\n",
        "while True:\n",
        "  i = i + 1\n",
        "  if i == 10:\n",
        "    break\n",
        "  print(i, end = ' ')\n",
        "\n",
        "print('Done.')\n"
      ],
      "metadata": {
        "colab": {
          "base_uri": "https://localhost:8080/"
        },
        "id": "s7GNk0_pKk5o",
        "outputId": "357851fc-4589-459c-cd37-437f02b08f23"
      },
      "execution_count": null,
      "outputs": [
        {
          "output_type": "stream",
          "name": "stdout",
          "text": [
            "1 2 3 4 5 6 7 8 9 Done.\n"
          ]
        }
      ]
    },
    {
      "cell_type": "code",
      "source": [
        "l = []\n",
        "\n",
        "integer = int(input('Give a value:'))\n",
        "\n",
        "while integer !=0:\n",
        "  l.append(integer)\n",
        "  integer = int(input('Give a value:'))\n",
        "\n",
        "print(l)"
      ],
      "metadata": {
        "colab": {
          "base_uri": "https://localhost:8080/"
        },
        "id": "leTakcajItAf",
        "outputId": "f3d02a0c-2563-4517-95c0-59e3af12e6ec"
      },
      "execution_count": null,
      "outputs": [
        {
          "output_type": "stream",
          "name": "stdout",
          "text": [
            "Give a value:10\n",
            "Give a value:12\n",
            "Give a value:5\n",
            "Give a value:0\n",
            "[10, 12, 5]\n"
          ]
        }
      ]
    },
    {
      "cell_type": "code",
      "source": [
        "months = {}\n",
        "\n",
        "names = ['Jan', 'Feb', 'Mar', 'Apr', 'May', 'Jun', 'Jul', 'Aug', 'Sep', 'Oct', 'Nov', 'Dec']\n",
        "numbers = [1, 2, 3, 4, 5, 6, 7, 8, 9, 10, 11, 12]\n",
        "\n",
        "for idx in numbers:\n",
        "  months[idx] = names[idx - 1]\n",
        "\n",
        "print(months)"
      ],
      "metadata": {
        "colab": {
          "base_uri": "https://localhost:8080/"
        },
        "id": "K7RWCkbU47h5",
        "outputId": "6f79cf90-360a-4c58-c70f-6ae3f549047a"
      },
      "execution_count": null,
      "outputs": [
        {
          "output_type": "stream",
          "name": "stdout",
          "text": [
            "{1: 'Jan', 2: 'Feb', 3: 'Mar', 4: 'Apr', 5: 'May', 6: 'Jun', 7: 'Jul', 8: 'Aug', 9: 'Sep', 10: 'Oct', 11: 'Nov', 12: 'Dec'}\n"
          ]
        }
      ]
    },
    {
      "cell_type": "code",
      "source": [
        "annual_salary = float(input('Enter your annual salary:​ '))\n",
        "portion_saved = float(input('Enter the percent of your salary to save, as a decimal: ​'))\n",
        "total_cost = float(input('Enter the cost of your dream home: ​'))\n",
        "\n",
        "current_savings = 0\n",
        "portion_down_payment = 0.25 * total_cost\n",
        "current_savings = 0\n",
        "r = 0.04\n",
        "annual_return = (current_savings * r) / 12\n",
        "monthly_salary = annual_salary / 12\n",
        "portion_saved = portion_saved * monthly_salary\n",
        "time = 0\n",
        "\n",
        "while (current_savings <= portion_down_payment):\n",
        "    time += 1\n",
        "    current_savings += (current_savings * r / 12) + portion_saved\n",
        "print('Number of months: %d'%time)\n"
      ],
      "metadata": {
        "colab": {
          "base_uri": "https://localhost:8080/"
        },
        "id": "PUTzaqAKu1cF",
        "outputId": "0649de56-901c-400a-bc20-9cc57fb15cba"
      },
      "execution_count": null,
      "outputs": [
        {
          "output_type": "stream",
          "name": "stdout",
          "text": [
            "Enter your annual salary:​ 120000\n",
            "Enter the percent of your salary to save, as a decimal: ​.10\n",
            "Enter the cost of your dream home: ​1000000\n",
            "Number of months: 183\n"
          ]
        }
      ]
    },
    {
      "cell_type": "code",
      "source": [
        "annual_salary = float(input(\"Enter your starting annual salary: \"))\n",
        "portion_saved = float(input(\"Enter the portion of salary to be saved (as a decimal): \"))\n",
        "total_cost = float(input(\"Enter the cost of your dream home: \"))\n",
        "semi_annual_raise = float(input(\"Enter the semi-annual raise (as a decimal): \"))\n",
        "\n",
        "portion_down_payment = 0.25\n",
        "current_savings = 0.0\n",
        "r = 0.04\n",
        "\n",
        "down_payment = total_cost * portion_down_payment\n",
        "monthly_salary = annual_salary / 12\n",
        "months = 0\n",
        "\n",
        "while current_savings < down_payment:\n",
        "  current_savings += current_savings * r / 12\n",
        "  current_savings += monthly_salary * portion_saved\n",
        "  months += 1\n",
        "  if months % 6 == 0:\n",
        "    annual_salary += annual_salary * semi_annual_raise\n",
        "    monthly_salary = annual_salary / 12\n",
        "\n",
        "print(f\"Number of months: {months}\")"
      ],
      "metadata": {
        "colab": {
          "base_uri": "https://localhost:8080/"
        },
        "id": "lsa2V8A-ywru",
        "outputId": "f58f1e57-540a-4859-d264-fdf6c2eaea24"
      },
      "execution_count": null,
      "outputs": [
        {
          "output_type": "stream",
          "name": "stdout",
          "text": [
            "Enter your starting annual salary: 120000\n",
            "Enter the portion of salary to be saved (as a decimal): 0.5\n",
            "Enter the cost of your dream home: 500000\n",
            "Enter the semi-annual raise (as a decimal): 0.3\n",
            "Number of months: 19\n"
          ]
        }
      ]
    },
    {
      "cell_type": "code",
      "source": [
        "def range_check(num, low, high):\n",
        "    if num >= low and num <= high:\n",
        "        return True\n",
        "    else:\n",
        "        return False"
      ],
      "metadata": {
        "id": "pLhkwAu7yDQg"
      },
      "execution_count": null,
      "outputs": []
    },
    {
      "cell_type": "code",
      "source": [
        "def calcFee(hours):\n",
        "  fee = 5 + hours * 2.5\n",
        "  return fee\n",
        "\n",
        "h = int(input('Enter number of hours:'))\n",
        "fee = calcFee(h)\n",
        "print(fee)"
      ],
      "metadata": {
        "id": "4WTV_RozShHh",
        "colab": {
          "base_uri": "https://localhost:8080/"
        },
        "outputId": "597b0839-3c9b-4314-ce15-c8e3b32f173a"
      },
      "execution_count": null,
      "outputs": [
        {
          "output_type": "stream",
          "name": "stdout",
          "text": [
            "Enter number of hours:4\n",
            "15.0\n"
          ]
        }
      ]
    },
    {
      "cell_type": "code",
      "source": [
        "def calcFee(hours, decimals=2):\n",
        "  fee = 5 + hours * 2.5\n",
        "  fee = round(fee, decimals)\n",
        "  return fee\n",
        "\n",
        "def displayFee(fee):\n",
        "  print(fee)\n",
        "\n",
        "h = int(input('Enter hours parked:'))\n",
        "fee = calcFee(h)\n",
        "displayFee(fee)"
      ],
      "metadata": {
        "colab": {
          "base_uri": "https://localhost:8080/"
        },
        "id": "AorHRmy0CDfg",
        "outputId": "9095d249-420d-45bd-cb91-264b6cea6e0e"
      },
      "execution_count": null,
      "outputs": [
        {
          "output_type": "stream",
          "name": "stdout",
          "text": [
            "Enter hours parked:4\n",
            "15.0\n"
          ]
        }
      ]
    },
    {
      "cell_type": "code",
      "source": [
        "def res(s):\n",
        "  if len(s) == 1:\n",
        "    return s\n",
        "  else:\n",
        "    return res(s[1:]) + res(s[0])\n",
        "\n",
        "s = 'Hello'\n",
        "print(res(s))"
      ],
      "metadata": {
        "colab": {
          "base_uri": "https://localhost:8080/"
        },
        "id": "QysPV-duHZT2",
        "outputId": "d6f77d82-4990-4ab2-8422-cca407e94dd8"
      },
      "execution_count": null,
      "outputs": [
        {
          "output_type": "stream",
          "name": "stdout",
          "text": [
            "olleH\n"
          ]
        }
      ]
    },
    {
      "cell_type": "code",
      "source": [
        "def wAvg(L,w):\n",
        "  try:\n",
        "    res = []\n",
        "    for i in range(len(L)):\n",
        "      res.append(L[i] * w[i])\n",
        "    return sum(res) / sum(w)\n",
        "  except ZeroDivisionError:\n",
        "    print('Cannot divide by zero')\n",
        "    return []\n",
        "  except TypeError:\n",
        "    print('Invalid input')\n",
        "    return []\n",
        "  except Exception as e:\n",
        "    print(f'Unknown error: {e}')\n",
        "    return float('nan')\n",
        "wAvg([1,2,3], [.2,0,-.2])"
      ],
      "metadata": {
        "colab": {
          "base_uri": "https://localhost:8080/"
        },
        "id": "8Lxxo13vgKfp",
        "outputId": "35b0ba43-fb4f-45e0-82b6-281a83826784"
      },
      "execution_count": 11,
      "outputs": [
        {
          "output_type": "stream",
          "name": "stdout",
          "text": [
            "Cannot divide by zero\n"
          ]
        },
        {
          "output_type": "execute_result",
          "data": {
            "text/plain": [
              "[]"
            ]
          },
          "metadata": {},
          "execution_count": 11
        }
      ]
    }
  ],
  "metadata": {
    "colab": {
      "provenance": [],
      "authorship_tag": "ABX9TyNrOZgriN4CKLMFaX8j4xMS",
      "include_colab_link": true
    },
    "kernelspec": {
      "display_name": "Python 3",
      "name": "python3"
    },
    "language_info": {
      "name": "python"
    }
  },
  "nbformat": 4,
  "nbformat_minor": 0
}