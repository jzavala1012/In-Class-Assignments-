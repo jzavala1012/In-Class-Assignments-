{
  "cells": [
    {
      "cell_type": "markdown",
      "metadata": {
        "id": "view-in-github",
        "colab_type": "text"
      },
      "source": [
        "<a href=\"https://colab.research.google.com/github/jzavala1012/In-Class-Assignments-/blob/main/PandasAssignment.ipynb\" target=\"_parent\"><img src=\"https://colab.research.google.com/assets/colab-badge.svg\" alt=\"Open In Colab\"/></a>"
      ]
    },
    {
      "cell_type": "markdown",
      "id": "64d7f59f-248f-4fc8-9597-e1f3b35a9b98",
      "metadata": {
        "id": "64d7f59f-248f-4fc8-9597-e1f3b35a9b98"
      },
      "source": [
        "## Data Analysis assignment (20 points)\n",
        "\n",
        "You have been given the dataset `travel-times` in a CSV format. This dataset comes from a driver that uses an app to track GPS coordinates as he drives to work and back each day. The app collects the location and elevation data. In total, data for about 200 trips are summarized in this data set.\n",
        "\n",
        "Load the `travel-times` in a `df` variable using `pandas` and then perform the following:\n",
        "- print the shape of the dataset **(1 points)**\n",
        "- print the first 15 rows of the dataset **(1 points)**\n",
        "- get information for the features (columns) with missing values **(1 points)**\n",
        "- drop duplicate values (if any) by keeping only the last instance **(1 points)**\n",
        "- calculate the total number of missing values (if any) on each column **(2 points)**\n",
        "- create two copies of the dataframe, and then:\n",
        "    - drop rows with missing values from the 1st copy **(1 points)**\n",
        "    - drop columns with missing values from the 2nd copy **(1 points)**\n",
        "- get summary statistics and see the correlation between the numerical columns **(1 points)**\n",
        "- show rows 11 to 14 **(1 points)**\n",
        "- create a subset with trips occurred on November 23, 2011 and January 6, 2012 **(2 points)**\n",
        "- produce a scatterplot between `Distance` and `TotalTime` **(1 points)**\n",
        "    * Use:\n",
        "```python\n",
        "import matplotlib.pyplot as plt\n",
        "plt.rcParams.update({'font.size': 20, 'figure.figsize': (10, 8)})\n",
        "```\n",
        "- produce boxplots for `AvgSpeed` and `AvgMovingSpeed` (use different cells for each) **(2 points)**"
      ]
    },
    {
      "cell_type": "code",
      "execution_count": 1,
      "id": "3a276345-b8ef-419f-b55a-660d02d6279c",
      "metadata": {
        "id": "3a276345-b8ef-419f-b55a-660d02d6279c"
      },
      "outputs": [],
      "source": [
        "import matplotlib.pyplot as plt\n",
        "import pandas as pd\n",
        "\n",
        "plt.rcParams.update({'font.size': 20, 'figure.figsize': (10, 8)})"
      ]
    },
    {
      "cell_type": "code",
      "source": [
        "df = pd.read_csv('travel-times.csv')"
      ],
      "metadata": {
        "id": "o1Nl0BNs0iev"
      },
      "id": "o1Nl0BNs0iev",
      "execution_count": 2,
      "outputs": []
    },
    {
      "cell_type": "code",
      "source": [
        "print('Shape of the Dataset:', df.shape)"
      ],
      "metadata": {
        "colab": {
          "base_uri": "https://localhost:8080/"
        },
        "id": "KmOWhSyZCMu_",
        "outputId": "9cb2b083-ad1b-45d4-d486-3b15fe9d4247"
      },
      "id": "KmOWhSyZCMu_",
      "execution_count": 3,
      "outputs": [
        {
          "output_type": "stream",
          "name": "stdout",
          "text": [
            "Shape of the Dataset: (205, 13)\n"
          ]
        }
      ]
    },
    {
      "cell_type": "code",
      "source": [
        "print('First 15 rows of the Dataset:')\n",
        "df.head(15)"
      ],
      "metadata": {
        "colab": {
          "base_uri": "https://localhost:8080/",
          "height": 531
        },
        "id": "5EJ5XvMQDWWH",
        "outputId": "11551a1b-08ff-4e66-df88-301f25d28a48"
      },
      "id": "5EJ5XvMQDWWH",
      "execution_count": 14,
      "outputs": [
        {
          "output_type": "stream",
          "name": "stdout",
          "text": [
            "First 15 rows of the Dataset:\n"
          ]
        },
        {
          "output_type": "execute_result",
          "data": {
            "text/plain": [
              "          Date StartTime  DayOfWeek GoingTo  Distance  MaxSpeed  AvgSpeed  \\\n",
              "0     1/6/2012     16:37     Friday    Home     51.29     127.4      78.3   \n",
              "1     1/6/2012     08:20     Friday     GSK     51.63     130.3      81.8   \n",
              "2     1/4/2012     16:17  Wednesday    Home     51.27     127.4      82.0   \n",
              "3     1/4/2012     07:53  Wednesday     GSK     49.17     132.3      74.2   \n",
              "4     1/3/2012     18:57    Tuesday    Home     51.15     136.2      83.4   \n",
              "5     1/3/2012     07:57    Tuesday     GSK     51.80     135.8      84.5   \n",
              "6     1/2/2012     17:31     Monday    Home     51.37     123.2      82.9   \n",
              "7     1/2/2012     07:34     Monday     GSK     49.01     128.3      77.5   \n",
              "8   12/23/2011     08:01     Friday     GSK     52.91     130.3      80.9   \n",
              "9   12/22/2011     17:19   Thursday    Home     51.17     122.3      70.6   \n",
              "10  12/22/2011     08:16   Thursday     GSK     49.15     129.4      74.0   \n",
              "11  12/21/2011     07:45  Wednesday     GSK     51.77     124.8      71.7   \n",
              "12  12/20/2011     16:05    Tuesday    Home     51.45     130.1      75.2   \n",
              "13  12/20/2011     06:04    Tuesday     GSK     49.01     119.0      77.4   \n",
              "14  12/19/2011     16:18     Monday    Home     51.04     132.2      77.5   \n",
              "\n",
              "    AvgMovingSpeed FuelEconomy  TotalTime  MovingTime Take407All Comments  \n",
              "0             84.8         NaN       39.3        36.3         No      NaN  \n",
              "1             88.9         NaN       37.9        34.9         No      NaN  \n",
              "2             85.8         NaN       37.5        35.9         No      NaN  \n",
              "3             82.9         NaN       39.8        35.6         No      NaN  \n",
              "4             88.1         NaN       36.8        34.8         No      NaN  \n",
              "5             88.8         NaN       36.8        35.0         No      NaN  \n",
              "6             87.3           -       37.2        35.3         No      NaN  \n",
              "7             85.9           -       37.9        34.3         No      NaN  \n",
              "8             88.3        8.89       39.3        36.0         No      NaN  \n",
              "9             78.1        8.89       43.5        39.3         No      NaN  \n",
              "10            81.4        8.89       39.8        36.2         No      NaN  \n",
              "11            78.9        8.89       43.3        39.4         No      NaN  \n",
              "12            82.7        8.89       41.1        37.3         No      NaN  \n",
              "13            82.0        8.89       38.0        35.9         No      NaN  \n",
              "14            83.5        8.89       39.5        36.7         No      NaN  "
            ],
            "text/html": [
              "\n",
              "  <div id=\"df-3b33ab25-d6bc-4df9-8af1-fc1ee66eb058\" class=\"colab-df-container\">\n",
              "    <div>\n",
              "<style scoped>\n",
              "    .dataframe tbody tr th:only-of-type {\n",
              "        vertical-align: middle;\n",
              "    }\n",
              "\n",
              "    .dataframe tbody tr th {\n",
              "        vertical-align: top;\n",
              "    }\n",
              "\n",
              "    .dataframe thead th {\n",
              "        text-align: right;\n",
              "    }\n",
              "</style>\n",
              "<table border=\"1\" class=\"dataframe\">\n",
              "  <thead>\n",
              "    <tr style=\"text-align: right;\">\n",
              "      <th></th>\n",
              "      <th>Date</th>\n",
              "      <th>StartTime</th>\n",
              "      <th>DayOfWeek</th>\n",
              "      <th>GoingTo</th>\n",
              "      <th>Distance</th>\n",
              "      <th>MaxSpeed</th>\n",
              "      <th>AvgSpeed</th>\n",
              "      <th>AvgMovingSpeed</th>\n",
              "      <th>FuelEconomy</th>\n",
              "      <th>TotalTime</th>\n",
              "      <th>MovingTime</th>\n",
              "      <th>Take407All</th>\n",
              "      <th>Comments</th>\n",
              "    </tr>\n",
              "  </thead>\n",
              "  <tbody>\n",
              "    <tr>\n",
              "      <th>0</th>\n",
              "      <td>1/6/2012</td>\n",
              "      <td>16:37</td>\n",
              "      <td>Friday</td>\n",
              "      <td>Home</td>\n",
              "      <td>51.29</td>\n",
              "      <td>127.4</td>\n",
              "      <td>78.3</td>\n",
              "      <td>84.8</td>\n",
              "      <td>NaN</td>\n",
              "      <td>39.3</td>\n",
              "      <td>36.3</td>\n",
              "      <td>No</td>\n",
              "      <td>NaN</td>\n",
              "    </tr>\n",
              "    <tr>\n",
              "      <th>1</th>\n",
              "      <td>1/6/2012</td>\n",
              "      <td>08:20</td>\n",
              "      <td>Friday</td>\n",
              "      <td>GSK</td>\n",
              "      <td>51.63</td>\n",
              "      <td>130.3</td>\n",
              "      <td>81.8</td>\n",
              "      <td>88.9</td>\n",
              "      <td>NaN</td>\n",
              "      <td>37.9</td>\n",
              "      <td>34.9</td>\n",
              "      <td>No</td>\n",
              "      <td>NaN</td>\n",
              "    </tr>\n",
              "    <tr>\n",
              "      <th>2</th>\n",
              "      <td>1/4/2012</td>\n",
              "      <td>16:17</td>\n",
              "      <td>Wednesday</td>\n",
              "      <td>Home</td>\n",
              "      <td>51.27</td>\n",
              "      <td>127.4</td>\n",
              "      <td>82.0</td>\n",
              "      <td>85.8</td>\n",
              "      <td>NaN</td>\n",
              "      <td>37.5</td>\n",
              "      <td>35.9</td>\n",
              "      <td>No</td>\n",
              "      <td>NaN</td>\n",
              "    </tr>\n",
              "    <tr>\n",
              "      <th>3</th>\n",
              "      <td>1/4/2012</td>\n",
              "      <td>07:53</td>\n",
              "      <td>Wednesday</td>\n",
              "      <td>GSK</td>\n",
              "      <td>49.17</td>\n",
              "      <td>132.3</td>\n",
              "      <td>74.2</td>\n",
              "      <td>82.9</td>\n",
              "      <td>NaN</td>\n",
              "      <td>39.8</td>\n",
              "      <td>35.6</td>\n",
              "      <td>No</td>\n",
              "      <td>NaN</td>\n",
              "    </tr>\n",
              "    <tr>\n",
              "      <th>4</th>\n",
              "      <td>1/3/2012</td>\n",
              "      <td>18:57</td>\n",
              "      <td>Tuesday</td>\n",
              "      <td>Home</td>\n",
              "      <td>51.15</td>\n",
              "      <td>136.2</td>\n",
              "      <td>83.4</td>\n",
              "      <td>88.1</td>\n",
              "      <td>NaN</td>\n",
              "      <td>36.8</td>\n",
              "      <td>34.8</td>\n",
              "      <td>No</td>\n",
              "      <td>NaN</td>\n",
              "    </tr>\n",
              "    <tr>\n",
              "      <th>5</th>\n",
              "      <td>1/3/2012</td>\n",
              "      <td>07:57</td>\n",
              "      <td>Tuesday</td>\n",
              "      <td>GSK</td>\n",
              "      <td>51.80</td>\n",
              "      <td>135.8</td>\n",
              "      <td>84.5</td>\n",
              "      <td>88.8</td>\n",
              "      <td>NaN</td>\n",
              "      <td>36.8</td>\n",
              "      <td>35.0</td>\n",
              "      <td>No</td>\n",
              "      <td>NaN</td>\n",
              "    </tr>\n",
              "    <tr>\n",
              "      <th>6</th>\n",
              "      <td>1/2/2012</td>\n",
              "      <td>17:31</td>\n",
              "      <td>Monday</td>\n",
              "      <td>Home</td>\n",
              "      <td>51.37</td>\n",
              "      <td>123.2</td>\n",
              "      <td>82.9</td>\n",
              "      <td>87.3</td>\n",
              "      <td>-</td>\n",
              "      <td>37.2</td>\n",
              "      <td>35.3</td>\n",
              "      <td>No</td>\n",
              "      <td>NaN</td>\n",
              "    </tr>\n",
              "    <tr>\n",
              "      <th>7</th>\n",
              "      <td>1/2/2012</td>\n",
              "      <td>07:34</td>\n",
              "      <td>Monday</td>\n",
              "      <td>GSK</td>\n",
              "      <td>49.01</td>\n",
              "      <td>128.3</td>\n",
              "      <td>77.5</td>\n",
              "      <td>85.9</td>\n",
              "      <td>-</td>\n",
              "      <td>37.9</td>\n",
              "      <td>34.3</td>\n",
              "      <td>No</td>\n",
              "      <td>NaN</td>\n",
              "    </tr>\n",
              "    <tr>\n",
              "      <th>8</th>\n",
              "      <td>12/23/2011</td>\n",
              "      <td>08:01</td>\n",
              "      <td>Friday</td>\n",
              "      <td>GSK</td>\n",
              "      <td>52.91</td>\n",
              "      <td>130.3</td>\n",
              "      <td>80.9</td>\n",
              "      <td>88.3</td>\n",
              "      <td>8.89</td>\n",
              "      <td>39.3</td>\n",
              "      <td>36.0</td>\n",
              "      <td>No</td>\n",
              "      <td>NaN</td>\n",
              "    </tr>\n",
              "    <tr>\n",
              "      <th>9</th>\n",
              "      <td>12/22/2011</td>\n",
              "      <td>17:19</td>\n",
              "      <td>Thursday</td>\n",
              "      <td>Home</td>\n",
              "      <td>51.17</td>\n",
              "      <td>122.3</td>\n",
              "      <td>70.6</td>\n",
              "      <td>78.1</td>\n",
              "      <td>8.89</td>\n",
              "      <td>43.5</td>\n",
              "      <td>39.3</td>\n",
              "      <td>No</td>\n",
              "      <td>NaN</td>\n",
              "    </tr>\n",
              "    <tr>\n",
              "      <th>10</th>\n",
              "      <td>12/22/2011</td>\n",
              "      <td>08:16</td>\n",
              "      <td>Thursday</td>\n",
              "      <td>GSK</td>\n",
              "      <td>49.15</td>\n",
              "      <td>129.4</td>\n",
              "      <td>74.0</td>\n",
              "      <td>81.4</td>\n",
              "      <td>8.89</td>\n",
              "      <td>39.8</td>\n",
              "      <td>36.2</td>\n",
              "      <td>No</td>\n",
              "      <td>NaN</td>\n",
              "    </tr>\n",
              "    <tr>\n",
              "      <th>11</th>\n",
              "      <td>12/21/2011</td>\n",
              "      <td>07:45</td>\n",
              "      <td>Wednesday</td>\n",
              "      <td>GSK</td>\n",
              "      <td>51.77</td>\n",
              "      <td>124.8</td>\n",
              "      <td>71.7</td>\n",
              "      <td>78.9</td>\n",
              "      <td>8.89</td>\n",
              "      <td>43.3</td>\n",
              "      <td>39.4</td>\n",
              "      <td>No</td>\n",
              "      <td>NaN</td>\n",
              "    </tr>\n",
              "    <tr>\n",
              "      <th>12</th>\n",
              "      <td>12/20/2011</td>\n",
              "      <td>16:05</td>\n",
              "      <td>Tuesday</td>\n",
              "      <td>Home</td>\n",
              "      <td>51.45</td>\n",
              "      <td>130.1</td>\n",
              "      <td>75.2</td>\n",
              "      <td>82.7</td>\n",
              "      <td>8.89</td>\n",
              "      <td>41.1</td>\n",
              "      <td>37.3</td>\n",
              "      <td>No</td>\n",
              "      <td>NaN</td>\n",
              "    </tr>\n",
              "    <tr>\n",
              "      <th>13</th>\n",
              "      <td>12/20/2011</td>\n",
              "      <td>06:04</td>\n",
              "      <td>Tuesday</td>\n",
              "      <td>GSK</td>\n",
              "      <td>49.01</td>\n",
              "      <td>119.0</td>\n",
              "      <td>77.4</td>\n",
              "      <td>82.0</td>\n",
              "      <td>8.89</td>\n",
              "      <td>38.0</td>\n",
              "      <td>35.9</td>\n",
              "      <td>No</td>\n",
              "      <td>NaN</td>\n",
              "    </tr>\n",
              "    <tr>\n",
              "      <th>14</th>\n",
              "      <td>12/19/2011</td>\n",
              "      <td>16:18</td>\n",
              "      <td>Monday</td>\n",
              "      <td>Home</td>\n",
              "      <td>51.04</td>\n",
              "      <td>132.2</td>\n",
              "      <td>77.5</td>\n",
              "      <td>83.5</td>\n",
              "      <td>8.89</td>\n",
              "      <td>39.5</td>\n",
              "      <td>36.7</td>\n",
              "      <td>No</td>\n",
              "      <td>NaN</td>\n",
              "    </tr>\n",
              "  </tbody>\n",
              "</table>\n",
              "</div>\n",
              "    <div class=\"colab-df-buttons\">\n",
              "\n",
              "  <div class=\"colab-df-container\">\n",
              "    <button class=\"colab-df-convert\" onclick=\"convertToInteractive('df-3b33ab25-d6bc-4df9-8af1-fc1ee66eb058')\"\n",
              "            title=\"Convert this dataframe to an interactive table.\"\n",
              "            style=\"display:none;\">\n",
              "\n",
              "  <svg xmlns=\"http://www.w3.org/2000/svg\" height=\"24px\" viewBox=\"0 -960 960 960\">\n",
              "    <path d=\"M120-120v-720h720v720H120Zm60-500h600v-160H180v160Zm220 220h160v-160H400v160Zm0 220h160v-160H400v160ZM180-400h160v-160H180v160Zm440 0h160v-160H620v160ZM180-180h160v-160H180v160Zm440 0h160v-160H620v160Z\"/>\n",
              "  </svg>\n",
              "    </button>\n",
              "\n",
              "  <style>\n",
              "    .colab-df-container {\n",
              "      display:flex;\n",
              "      gap: 12px;\n",
              "    }\n",
              "\n",
              "    .colab-df-convert {\n",
              "      background-color: #E8F0FE;\n",
              "      border: none;\n",
              "      border-radius: 50%;\n",
              "      cursor: pointer;\n",
              "      display: none;\n",
              "      fill: #1967D2;\n",
              "      height: 32px;\n",
              "      padding: 0 0 0 0;\n",
              "      width: 32px;\n",
              "    }\n",
              "\n",
              "    .colab-df-convert:hover {\n",
              "      background-color: #E2EBFA;\n",
              "      box-shadow: 0px 1px 2px rgba(60, 64, 67, 0.3), 0px 1px 3px 1px rgba(60, 64, 67, 0.15);\n",
              "      fill: #174EA6;\n",
              "    }\n",
              "\n",
              "    .colab-df-buttons div {\n",
              "      margin-bottom: 4px;\n",
              "    }\n",
              "\n",
              "    [theme=dark] .colab-df-convert {\n",
              "      background-color: #3B4455;\n",
              "      fill: #D2E3FC;\n",
              "    }\n",
              "\n",
              "    [theme=dark] .colab-df-convert:hover {\n",
              "      background-color: #434B5C;\n",
              "      box-shadow: 0px 1px 3px 1px rgba(0, 0, 0, 0.15);\n",
              "      filter: drop-shadow(0px 1px 2px rgba(0, 0, 0, 0.3));\n",
              "      fill: #FFFFFF;\n",
              "    }\n",
              "  </style>\n",
              "\n",
              "    <script>\n",
              "      const buttonEl =\n",
              "        document.querySelector('#df-3b33ab25-d6bc-4df9-8af1-fc1ee66eb058 button.colab-df-convert');\n",
              "      buttonEl.style.display =\n",
              "        google.colab.kernel.accessAllowed ? 'block' : 'none';\n",
              "\n",
              "      async function convertToInteractive(key) {\n",
              "        const element = document.querySelector('#df-3b33ab25-d6bc-4df9-8af1-fc1ee66eb058');\n",
              "        const dataTable =\n",
              "          await google.colab.kernel.invokeFunction('convertToInteractive',\n",
              "                                                    [key], {});\n",
              "        if (!dataTable) return;\n",
              "\n",
              "        const docLinkHtml = 'Like what you see? Visit the ' +\n",
              "          '<a target=\"_blank\" href=https://colab.research.google.com/notebooks/data_table.ipynb>data table notebook</a>'\n",
              "          + ' to learn more about interactive tables.';\n",
              "        element.innerHTML = '';\n",
              "        dataTable['output_type'] = 'display_data';\n",
              "        await google.colab.output.renderOutput(dataTable, element);\n",
              "        const docLink = document.createElement('div');\n",
              "        docLink.innerHTML = docLinkHtml;\n",
              "        element.appendChild(docLink);\n",
              "      }\n",
              "    </script>\n",
              "  </div>\n",
              "\n",
              "\n",
              "<div id=\"df-0da3dbf9-9c30-4afa-b1a0-12bbfd9dd868\">\n",
              "  <button class=\"colab-df-quickchart\" onclick=\"quickchart('df-0da3dbf9-9c30-4afa-b1a0-12bbfd9dd868')\"\n",
              "            title=\"Suggest charts\"\n",
              "            style=\"display:none;\">\n",
              "\n",
              "<svg xmlns=\"http://www.w3.org/2000/svg\" height=\"24px\"viewBox=\"0 0 24 24\"\n",
              "     width=\"24px\">\n",
              "    <g>\n",
              "        <path d=\"M19 3H5c-1.1 0-2 .9-2 2v14c0 1.1.9 2 2 2h14c1.1 0 2-.9 2-2V5c0-1.1-.9-2-2-2zM9 17H7v-7h2v7zm4 0h-2V7h2v10zm4 0h-2v-4h2v4z\"/>\n",
              "    </g>\n",
              "</svg>\n",
              "  </button>\n",
              "\n",
              "<style>\n",
              "  .colab-df-quickchart {\n",
              "      --bg-color: #E8F0FE;\n",
              "      --fill-color: #1967D2;\n",
              "      --hover-bg-color: #E2EBFA;\n",
              "      --hover-fill-color: #174EA6;\n",
              "      --disabled-fill-color: #AAA;\n",
              "      --disabled-bg-color: #DDD;\n",
              "  }\n",
              "\n",
              "  [theme=dark] .colab-df-quickchart {\n",
              "      --bg-color: #3B4455;\n",
              "      --fill-color: #D2E3FC;\n",
              "      --hover-bg-color: #434B5C;\n",
              "      --hover-fill-color: #FFFFFF;\n",
              "      --disabled-bg-color: #3B4455;\n",
              "      --disabled-fill-color: #666;\n",
              "  }\n",
              "\n",
              "  .colab-df-quickchart {\n",
              "    background-color: var(--bg-color);\n",
              "    border: none;\n",
              "    border-radius: 50%;\n",
              "    cursor: pointer;\n",
              "    display: none;\n",
              "    fill: var(--fill-color);\n",
              "    height: 32px;\n",
              "    padding: 0;\n",
              "    width: 32px;\n",
              "  }\n",
              "\n",
              "  .colab-df-quickchart:hover {\n",
              "    background-color: var(--hover-bg-color);\n",
              "    box-shadow: 0 1px 2px rgba(60, 64, 67, 0.3), 0 1px 3px 1px rgba(60, 64, 67, 0.15);\n",
              "    fill: var(--button-hover-fill-color);\n",
              "  }\n",
              "\n",
              "  .colab-df-quickchart-complete:disabled,\n",
              "  .colab-df-quickchart-complete:disabled:hover {\n",
              "    background-color: var(--disabled-bg-color);\n",
              "    fill: var(--disabled-fill-color);\n",
              "    box-shadow: none;\n",
              "  }\n",
              "\n",
              "  .colab-df-spinner {\n",
              "    border: 2px solid var(--fill-color);\n",
              "    border-color: transparent;\n",
              "    border-bottom-color: var(--fill-color);\n",
              "    animation:\n",
              "      spin 1s steps(1) infinite;\n",
              "  }\n",
              "\n",
              "  @keyframes spin {\n",
              "    0% {\n",
              "      border-color: transparent;\n",
              "      border-bottom-color: var(--fill-color);\n",
              "      border-left-color: var(--fill-color);\n",
              "    }\n",
              "    20% {\n",
              "      border-color: transparent;\n",
              "      border-left-color: var(--fill-color);\n",
              "      border-top-color: var(--fill-color);\n",
              "    }\n",
              "    30% {\n",
              "      border-color: transparent;\n",
              "      border-left-color: var(--fill-color);\n",
              "      border-top-color: var(--fill-color);\n",
              "      border-right-color: var(--fill-color);\n",
              "    }\n",
              "    40% {\n",
              "      border-color: transparent;\n",
              "      border-right-color: var(--fill-color);\n",
              "      border-top-color: var(--fill-color);\n",
              "    }\n",
              "    60% {\n",
              "      border-color: transparent;\n",
              "      border-right-color: var(--fill-color);\n",
              "    }\n",
              "    80% {\n",
              "      border-color: transparent;\n",
              "      border-right-color: var(--fill-color);\n",
              "      border-bottom-color: var(--fill-color);\n",
              "    }\n",
              "    90% {\n",
              "      border-color: transparent;\n",
              "      border-bottom-color: var(--fill-color);\n",
              "    }\n",
              "  }\n",
              "</style>\n",
              "\n",
              "  <script>\n",
              "    async function quickchart(key) {\n",
              "      const quickchartButtonEl =\n",
              "        document.querySelector('#' + key + ' button');\n",
              "      quickchartButtonEl.disabled = true;  // To prevent multiple clicks.\n",
              "      quickchartButtonEl.classList.add('colab-df-spinner');\n",
              "      try {\n",
              "        const charts = await google.colab.kernel.invokeFunction(\n",
              "            'suggestCharts', [key], {});\n",
              "      } catch (error) {\n",
              "        console.error('Error during call to suggestCharts:', error);\n",
              "      }\n",
              "      quickchartButtonEl.classList.remove('colab-df-spinner');\n",
              "      quickchartButtonEl.classList.add('colab-df-quickchart-complete');\n",
              "    }\n",
              "    (() => {\n",
              "      let quickchartButtonEl =\n",
              "        document.querySelector('#df-0da3dbf9-9c30-4afa-b1a0-12bbfd9dd868 button');\n",
              "      quickchartButtonEl.style.display =\n",
              "        google.colab.kernel.accessAllowed ? 'block' : 'none';\n",
              "    })();\n",
              "  </script>\n",
              "</div>\n",
              "\n",
              "    </div>\n",
              "  </div>\n"
            ],
            "application/vnd.google.colaboratory.intrinsic+json": {
              "type": "dataframe",
              "variable_name": "df",
              "summary": "{\n  \"name\": \"df\",\n  \"rows\": 205,\n  \"fields\": [\n    {\n      \"column\": \"Date\",\n      \"properties\": {\n        \"dtype\": \"object\",\n        \"num_unique_values\": 111,\n        \"samples\": [\n          \"8/26/2011\",\n          \"12/15/2011\",\n          \"12/23/2011\"\n        ],\n        \"semantic_type\": \"\",\n        \"description\": \"\"\n      }\n    },\n    {\n      \"column\": \"StartTime\",\n      \"properties\": {\n        \"dtype\": \"object\",\n        \"num_unique_values\": 123,\n        \"samples\": [\n          \"07:19\",\n          \"16:45\",\n          \"08:13\"\n        ],\n        \"semantic_type\": \"\",\n        \"description\": \"\"\n      }\n    },\n    {\n      \"column\": \"DayOfWeek\",\n      \"properties\": {\n        \"dtype\": \"category\",\n        \"num_unique_values\": 5,\n        \"samples\": [\n          \"Wednesday\",\n          \"Thursday\",\n          \"Tuesday\"\n        ],\n        \"semantic_type\": \"\",\n        \"description\": \"\"\n      }\n    },\n    {\n      \"column\": \"GoingTo\",\n      \"properties\": {\n        \"dtype\": \"category\",\n        \"num_unique_values\": 2,\n        \"samples\": [\n          \"GSK\",\n          \"Home\"\n        ],\n        \"semantic_type\": \"\",\n        \"description\": \"\"\n      }\n    },\n    {\n      \"column\": \"Distance\",\n      \"properties\": {\n        \"dtype\": \"number\",\n        \"std\": 1.3212053157515522,\n        \"min\": 48.32,\n        \"max\": 60.32,\n        \"num_unique_values\": 124,\n        \"samples\": [\n          51.68,\n          51.12\n        ],\n        \"semantic_type\": \"\",\n        \"description\": \"\"\n      }\n    },\n    {\n      \"column\": \"MaxSpeed\",\n      \"properties\": {\n        \"dtype\": \"number\",\n        \"std\": 4.128449776971449,\n        \"min\": 112.2,\n        \"max\": 140.9,\n        \"num_unique_values\": 113,\n        \"samples\": [\n          132.8,\n          135.8\n        ],\n        \"semantic_type\": \"\",\n        \"description\": \"\"\n      }\n    },\n    {\n      \"column\": \"AvgSpeed\",\n      \"properties\": {\n        \"dtype\": \"number\",\n        \"std\": 11.409816203020313,\n        \"min\": 38.1,\n        \"max\": 107.7,\n        \"num_unique_values\": 159,\n        \"samples\": [\n          59.7,\n          76.2\n        ],\n        \"semantic_type\": \"\",\n        \"description\": \"\"\n      }\n    },\n    {\n      \"column\": \"AvgMovingSpeed\",\n      \"properties\": {\n        \"dtype\": \"number\",\n        \"std\": 10.111544084289589,\n        \"min\": 50.3,\n        \"max\": 112.1,\n        \"num_unique_values\": 147,\n        \"samples\": [\n          87.0,\n          80.4\n        ],\n        \"semantic_type\": \"\",\n        \"description\": \"\"\n      }\n    },\n    {\n      \"column\": \"FuelEconomy\",\n      \"properties\": {\n        \"dtype\": \"category\",\n        \"num_unique_values\": 24,\n        \"samples\": [\n          \"9.35\",\n          \"8.33\"\n        ],\n        \"semantic_type\": \"\",\n        \"description\": \"\"\n      }\n    },\n    {\n      \"column\": \"TotalTime\",\n      \"properties\": {\n        \"dtype\": \"number\",\n        \"std\": 6.849476167454839,\n        \"min\": 28.2,\n        \"max\": 82.3,\n        \"num_unique_values\": 122,\n        \"samples\": [\n          45.1,\n          47.3\n        ],\n        \"semantic_type\": \"\",\n        \"description\": \"\"\n      }\n    },\n    {\n      \"column\": \"MovingTime\",\n      \"properties\": {\n        \"dtype\": \"number\",\n        \"std\": 4.8350719839923135,\n        \"min\": 27.1,\n        \"max\": 62.4,\n        \"num_unique_values\": 110,\n        \"samples\": [\n          37.7,\n          36.2\n        ],\n        \"semantic_type\": \"\",\n        \"description\": \"\"\n      }\n    },\n    {\n      \"column\": \"Take407All\",\n      \"properties\": {\n        \"dtype\": \"category\",\n        \"num_unique_values\": 2,\n        \"samples\": [\n          \"Yes\",\n          \"No\"\n        ],\n        \"semantic_type\": \"\",\n        \"description\": \"\"\n      }\n    },\n    {\n      \"column\": \"Comments\",\n      \"properties\": {\n        \"dtype\": \"category\",\n        \"num_unique_values\": 22,\n        \"samples\": [\n          \"Put snow tires on\",\n          \"Accident at 403/highway 6; detour along Dundas\"\n        ],\n        \"semantic_type\": \"\",\n        \"description\": \"\"\n      }\n    }\n  ]\n}"
            }
          },
          "metadata": {},
          "execution_count": 14
        }
      ]
    },
    {
      "cell_type": "code",
      "source": [
        "print('Columns with missing values info:')\n",
        "missing_value_info = df.info()"
      ],
      "metadata": {
        "colab": {
          "base_uri": "https://localhost:8080/"
        },
        "id": "3v091kgROcg9",
        "outputId": "7d2076dd-3f65-4bc6-bd5f-9451db3c5a5f"
      },
      "id": "3v091kgROcg9",
      "execution_count": 55,
      "outputs": [
        {
          "output_type": "stream",
          "name": "stdout",
          "text": [
            "Columns with missing values info:\n",
            "<class 'pandas.core.frame.DataFrame'>\n",
            "RangeIndex: 205 entries, 0 to 204\n",
            "Data columns (total 13 columns):\n",
            " #   Column          Non-Null Count  Dtype  \n",
            "---  ------          --------------  -----  \n",
            " 0   Date            205 non-null    object \n",
            " 1   StartTime       205 non-null    object \n",
            " 2   DayOfWeek       205 non-null    object \n",
            " 3   GoingTo         205 non-null    object \n",
            " 4   Distance        205 non-null    float64\n",
            " 5   MaxSpeed        205 non-null    float64\n",
            " 6   AvgSpeed        205 non-null    float64\n",
            " 7   AvgMovingSpeed  205 non-null    float64\n",
            " 8   FuelEconomy     188 non-null    object \n",
            " 9   TotalTime       205 non-null    float64\n",
            " 10  MovingTime      205 non-null    float64\n",
            " 11  Take407All      205 non-null    object \n",
            " 12  Comments        24 non-null     object \n",
            "dtypes: float64(6), object(7)\n",
            "memory usage: 20.9+ KB\n"
          ]
        }
      ]
    },
    {
      "cell_type": "code",
      "source": [
        "df_deduplicated = df.drop_duplicates(keep='last')"
      ],
      "metadata": {
        "id": "zfCXOZijEUgj"
      },
      "id": "zfCXOZijEUgj",
      "execution_count": 10,
      "outputs": []
    },
    {
      "cell_type": "code",
      "source": [
        "missingValues = df.isnull().sum()\n",
        "print('Total missing values in each column:')\n",
        "print(missingValues)"
      ],
      "metadata": {
        "colab": {
          "base_uri": "https://localhost:8080/"
        },
        "id": "YMlj18mhEr8w",
        "outputId": "71d6bb5a-a274-4fb0-9da7-4545c27cc081"
      },
      "id": "YMlj18mhEr8w",
      "execution_count": 56,
      "outputs": [
        {
          "output_type": "stream",
          "name": "stdout",
          "text": [
            "Total missing values in each column:\n",
            "Date                0\n",
            "StartTime           0\n",
            "DayOfWeek           0\n",
            "GoingTo             0\n",
            "Distance            0\n",
            "MaxSpeed            0\n",
            "AvgSpeed            0\n",
            "AvgMovingSpeed      0\n",
            "FuelEconomy        17\n",
            "TotalTime           0\n",
            "MovingTime          0\n",
            "Take407All          0\n",
            "Comments          181\n",
            "dtype: int64\n"
          ]
        }
      ]
    },
    {
      "cell_type": "code",
      "source": [
        "df_copy1 = df_deduplicated.copy()\n",
        "df_copy2 = df_deduplicated.copy()\n",
        "\n",
        "df_copy1_dropped_rows = df_copy1.dropna()\n",
        "df_copy2_dropped_columns = df_copy2.dropna(axis=1)"
      ],
      "metadata": {
        "id": "XfCX2JfyE9-5"
      },
      "id": "XfCX2JfyE9-5",
      "execution_count": 43,
      "outputs": []
    },
    {
      "cell_type": "code",
      "source": [
        "numerical_df = df.select_dtypes(include=['float64', 'int64'])\n",
        "\n",
        "summaryStats = numerical_df.describe()\n",
        "correlation_matrix = numerical_df.corr()\n",
        "\n",
        "print('Summary Stats:')\n",
        "print(summaryStats)\n",
        "print('\\nCorrelation Matrix:')\n",
        "print(correlation_matrix)"
      ],
      "metadata": {
        "colab": {
          "base_uri": "https://localhost:8080/"
        },
        "id": "t440s6pnMJ_d",
        "outputId": "d9eb1481-7da4-494d-fa3d-de7fb0644777"
      },
      "id": "t440s6pnMJ_d",
      "execution_count": 52,
      "outputs": [
        {
          "output_type": "stream",
          "name": "stdout",
          "text": [
            "Summary Stats:\n",
            "         Distance    MaxSpeed    AvgSpeed  AvgMovingSpeed   TotalTime  \\\n",
            "count  205.000000  205.000000  205.000000      205.000000  205.000000   \n",
            "mean    50.981512  127.591707   74.477561       81.975610   41.904390   \n",
            "std      1.321205    4.128450   11.409816       10.111544    6.849476   \n",
            "min     48.320000  112.200000   38.100000       50.300000   28.200000   \n",
            "25%     50.650000  124.900000   68.900000       76.600000   38.400000   \n",
            "50%     51.140000  127.400000   73.600000       81.400000   41.300000   \n",
            "75%     51.630000  129.800000   79.900000       86.000000   44.400000   \n",
            "max     60.320000  140.900000  107.700000      112.100000   82.300000   \n",
            "\n",
            "       MovingTime  \n",
            "count  205.000000  \n",
            "mean    37.871707  \n",
            "std      4.835072  \n",
            "min     27.100000  \n",
            "25%     35.700000  \n",
            "50%     37.600000  \n",
            "75%     39.900000  \n",
            "max     62.400000  \n",
            "\n",
            "Correlation Matrix:\n",
            "                Distance  MaxSpeed  AvgSpeed  AvgMovingSpeed  TotalTime  \\\n",
            "Distance        1.000000  0.145091 -0.006445        0.011874   0.197207   \n",
            "MaxSpeed        0.145091  1.000000  0.253869        0.257823  -0.198775   \n",
            "AvgSpeed       -0.006445  0.253869  1.000000        0.872143  -0.877806   \n",
            "AvgMovingSpeed  0.011874  0.257823  0.872143        1.000000  -0.856986   \n",
            "TotalTime       0.197207 -0.198775 -0.877806       -0.856986   1.000000   \n",
            "MovingTime      0.197044 -0.222574 -0.835814       -0.944433   0.920935   \n",
            "\n",
            "                MovingTime  \n",
            "Distance          0.197044  \n",
            "MaxSpeed         -0.222574  \n",
            "AvgSpeed         -0.835814  \n",
            "AvgMovingSpeed   -0.944433  \n",
            "TotalTime         0.920935  \n",
            "MovingTime        1.000000  \n"
          ]
        }
      ]
    },
    {
      "cell_type": "code",
      "source": [
        "print(\"Rows 11 to 14:\")\n",
        "print(df.iloc[11:15])"
      ],
      "metadata": {
        "colab": {
          "base_uri": "https://localhost:8080/"
        },
        "id": "dVhr8IAxFW9I",
        "outputId": "96d90e97-4c66-4bfe-b127-d22a33e77881"
      },
      "id": "dVhr8IAxFW9I",
      "execution_count": 27,
      "outputs": [
        {
          "output_type": "stream",
          "name": "stdout",
          "text": [
            "Rows 11 to 14:\n",
            "          Date StartTime  DayOfWeek GoingTo  Distance  MaxSpeed  AvgSpeed  \\\n",
            "11  12/21/2011     07:45  Wednesday     GSK     51.77     124.8      71.7   \n",
            "12  12/20/2011     16:05    Tuesday    Home     51.45     130.1      75.2   \n",
            "13  12/20/2011     06:04    Tuesday     GSK     49.01     119.0      77.4   \n",
            "14  12/19/2011     16:18     Monday    Home     51.04     132.2      77.5   \n",
            "\n",
            "    AvgMovingSpeed FuelEconomy  TotalTime  MovingTime Take407All Comments  \n",
            "11            78.9        8.89       43.3        39.4         No      NaN  \n",
            "12            82.7        8.89       41.1        37.3         No      NaN  \n",
            "13            82.0        8.89       38.0        35.9         No      NaN  \n",
            "14            83.5        8.89       39.5        36.7         No      NaN  \n"
          ]
        }
      ]
    },
    {
      "cell_type": "code",
      "source": [
        "subsetDates = ['11/23/2011', '1/6/2012']\n",
        "subset = df[df['Date'].isin(subsetDates)]\n",
        "\n",
        "print('Subset of trips on November 23, 2011 and January 6, 2012:')\n",
        "print(subset)"
      ],
      "metadata": {
        "colab": {
          "base_uri": "https://localhost:8080/"
        },
        "id": "crS_LjAjGvYI",
        "outputId": "70f13f79-9632-4c9f-b8a8-3ca2690a5fa0"
      },
      "id": "crS_LjAjGvYI",
      "execution_count": 57,
      "outputs": [
        {
          "output_type": "stream",
          "name": "stdout",
          "text": [
            "Subset of trips on November 23, 2011 and January 6, 2012:\n",
            "          Date StartTime  DayOfWeek GoingTo  Distance  MaxSpeed  AvgSpeed  \\\n",
            "0     1/6/2012     16:37     Friday    Home     51.29     127.4      78.3   \n",
            "1     1/6/2012     08:20     Friday     GSK     51.63     130.3      81.8   \n",
            "44  11/23/2011     16:17  Wednesday    Home     60.32     129.4      68.9   \n",
            "45  11/23/2011     07:22  Wednesday     GSK     51.60     126.4      67.3   \n",
            "\n",
            "    AvgMovingSpeed FuelEconomy  TotalTime  MovingTime Take407All Comments  \n",
            "0             84.8         NaN       39.3        36.3         No      NaN  \n",
            "1             88.9         NaN       37.9        34.9         No      NaN  \n",
            "44            74.6         9.3       52.5        48.5         No      NaN  \n",
            "45            73.6         9.3       46.0        42.1         No      NaN  \n"
          ]
        }
      ]
    },
    {
      "cell_type": "code",
      "source": [
        "import matplotlib.pyplot as plt\n",
        "plt.rcParams.update({'font.size': 20, 'figure.figsize': (10, 8)})\n",
        "\n",
        "df.plot(kind='scatter', y='TotalTime', x='Distance', title='Scatterplot of Distance vs Total Time')\n",
        "plt.show()"
      ],
      "metadata": {
        "colab": {
          "base_uri": "https://localhost:8080/",
          "height": 758
        },
        "id": "BizokZObICkK",
        "outputId": "fb2f1772-62ec-4d1f-d081-ac7ffffe1a8a"
      },
      "id": "BizokZObICkK",
      "execution_count": 34,
      "outputs": [
        {
          "output_type": "display_data",
          "data": {
            "text/plain": [
              "<Figure size 1000x800 with 1 Axes>"
            ],
            "image/png": "[encoded data removed]"
          },
          "metadata": {}
        }
      ]
    },
    {
      "cell_type": "code",
      "source": [
        "df['AvgSpeed'].plot(kind='box', title='Boxplot of Avg Speed')\n",
        "plt.show()"
      ],
      "metadata": {
        "colab": {
          "base_uri": "https://localhost:8080/",
          "height": 725
        },
        "id": "4EMTmAcLI2B4",
        "outputId": "6a0cf48f-ce05-44f2-91e1-e3f451edbdc3"
      },
      "id": "4EMTmAcLI2B4",
      "execution_count": 40,
      "outputs": [
        {
          "output_type": "display_data",
          "data": {
            "text/plain": [
              "<Figure size 1000x800 with 1 Axes>"
            ],
            "image/png": "[encoded data removed]"
          },
          "metadata": {}
        }
      ]
    },
    {
      "cell_type": "code",
      "source": [
        "df['AvgMovingSpeed'].plot(kind='box', title='Boxplot of Avg Moving Speed')\n",
        "plt.show()"
      ],
      "metadata": {
        "colab": {
          "base_uri": "https://localhost:8080/",
          "height": 725
        },
        "id": "CpdRq45IJzjv",
        "outputId": "59dc965a-c55a-45a1-a4b3-ebda91370554"
      },
      "id": "CpdRq45IJzjv",
      "execution_count": 41,
      "outputs": [
        {
          "output_type": "display_data",
          "data": {
            "text/plain": [
              "<Figure size 1000x800 with 1 Axes>"
            ],
            "image/png": "[encoded data removed]"
          },
          "metadata": {}
        }
      ]
    }
  ],
  "metadata": {
    "kernelspec": {
      "display_name": "Python 3 (ipykernel)",
      "language": "python",
      "name": "python3"
    },
    "language_info": {
      "codemirror_mode": {
        "name": "ipython",
        "version": 3
      },
      "file_extension": ".py",
      "mimetype": "text/x-python",
      "name": "python",
      "nbconvert_exporter": "python",
      "pygments_lexer": "ipython3",
      "version": "3.8.2"
    },
    "colab": {
      "provenance": [],
      "include_colab_link": true
    }
  },
  "nbformat": 4,
  "nbformat_minor": 5
}